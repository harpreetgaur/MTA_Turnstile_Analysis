{
 "cells": [
  {
   "cell_type": "markdown",
   "metadata": {},
   "source": [
    "## Web Scraping"
   ]
  },
  {
   "cell_type": "code",
   "execution_count": 35,
   "metadata": {},
   "outputs": [],
   "source": [
    "import requests\n",
    "from bs4 import BeautifulSoup\n",
    "import pandas as pd\n",
    "import matplotlib.pyplot as plt\n",
    "import numpy as np\n",
    "import requests\n",
    "import datetime"
   ]
  },
  {
   "cell_type": "code",
   "execution_count": 36,
   "metadata": {},
   "outputs": [],
   "source": [
    "content = requests.get(\n",
    "    \"http://web.mta.info/developers/turnstile.html\").content.decode(\"utf-8\")\n",
    "# Convert the main page contents to soup\n",
    "soup = BeautifulSoup(content, 'lxml')"
   ]
  },
  {
   "cell_type": "code",
   "execution_count": 37,
   "metadata": {},
   "outputs": [],
   "source": [
    "# WEB SCRAPER\n",
    "content = requests.get(\n",
    "    \"http://web.mta.info/developers/turnstile.html\").content.decode(\"utf-8\")\n",
    "# Convert the main page contents to soup\n",
    "soup = BeautifulSoup(content, 'lxml')\n",
    "\n",
    "LOCATION = 'C:/Users/Harpreet Gaur/Desktop/Turnstile_Analysis' # ex: '/home/tom/Documents/turnstile/Data/'\n",
    "\n",
    "a_tags = soup.select('div.span-84.last > a')\n"
   ]
  },
  {
   "cell_type": "code",
   "execution_count": 38,
   "metadata": {},
   "outputs": [],
   "source": [
    "date_list = []\n",
    "files_names = []\n",
    "\n",
    "# looping through all the <a> tag elements\n",
    "for a_tag in a_tags:\n",
    "  # Convert the inner text of the a tag to a datetime object\n",
    "  d = datetime.datetime.strptime(a_tag.text.strip(), \"%A, %B %d, %Y\")\n",
    "  # put the formatted date in the array if it is in the year of 2013\n",
    "  if d.year == 2013:\n",
    "      date_list.append(d.strftime(\"%y%m%d\")) # append + format the datetime object to string\n",
    "      "
   ]
  },
  {
   "cell_type": "code",
   "execution_count": 39,
   "metadata": {},
   "outputs": [
    {
     "name": "stdout",
     "output_type": "stream",
     "text": [
      "Processing URL: http://web.mta.info/developers/data/nyct/turnstile/turnstile_131228.txt\n",
      "Converting to CSV...\n",
      "Finished 131228!\n",
      "\n",
      "Processing URL: http://web.mta.info/developers/data/nyct/turnstile/turnstile_131221.txt\n",
      "Converting to CSV...\n",
      "Finished 131221!\n",
      "\n",
      "Processing URL: http://web.mta.info/developers/data/nyct/turnstile/turnstile_131214.txt\n",
      "Converting to CSV...\n",
      "Finished 131214!\n",
      "\n",
      "Processing URL: http://web.mta.info/developers/data/nyct/turnstile/turnstile_131207.txt\n",
      "Converting to CSV...\n",
      "Finished 131207!\n",
      "\n",
      "Processing URL: http://web.mta.info/developers/data/nyct/turnstile/turnstile_131130.txt\n",
      "Converting to CSV...\n",
      "Finished 131130!\n",
      "\n",
      "Processing URL: http://web.mta.info/developers/data/nyct/turnstile/turnstile_131123.txt\n",
      "Converting to CSV...\n",
      "Finished 131123!\n",
      "\n",
      "Processing URL: http://web.mta.info/developers/data/nyct/turnstile/turnstile_131116.txt\n",
      "Converting to CSV...\n",
      "Finished 131116!\n",
      "\n",
      "Processing URL: http://web.mta.info/developers/data/nyct/turnstile/turnstile_131109.txt\n",
      "Converting to CSV...\n",
      "Finished 131109!\n",
      "\n",
      "Processing URL: http://web.mta.info/developers/data/nyct/turnstile/turnstile_131102.txt\n",
      "Converting to CSV...\n",
      "Finished 131102!\n",
      "\n",
      "Processing URL: http://web.mta.info/developers/data/nyct/turnstile/turnstile_131026.txt\n",
      "Converting to CSV...\n",
      "Finished 131026!\n",
      "\n",
      "Processing URL: http://web.mta.info/developers/data/nyct/turnstile/turnstile_131019.txt\n",
      "Converting to CSV...\n",
      "Finished 131019!\n",
      "\n",
      "Processing URL: http://web.mta.info/developers/data/nyct/turnstile/turnstile_131012.txt\n",
      "Converting to CSV...\n",
      "Finished 131012!\n",
      "\n",
      "Processing URL: http://web.mta.info/developers/data/nyct/turnstile/turnstile_131005.txt\n",
      "Converting to CSV...\n",
      "Finished 131005!\n",
      "\n",
      "Processing URL: http://web.mta.info/developers/data/nyct/turnstile/turnstile_130928.txt\n",
      "Converting to CSV...\n",
      "Finished 130928!\n",
      "\n",
      "Processing URL: http://web.mta.info/developers/data/nyct/turnstile/turnstile_130921.txt\n",
      "Converting to CSV...\n",
      "Finished 130921!\n",
      "\n",
      "Processing URL: http://web.mta.info/developers/data/nyct/turnstile/turnstile_130914.txt\n",
      "Converting to CSV...\n",
      "Finished 130914!\n",
      "\n",
      "Processing URL: http://web.mta.info/developers/data/nyct/turnstile/turnstile_130907.txt\n",
      "Converting to CSV...\n",
      "Finished 130907!\n",
      "\n",
      "Processing URL: http://web.mta.info/developers/data/nyct/turnstile/turnstile_130831.txt\n",
      "Converting to CSV...\n",
      "Finished 130831!\n",
      "\n",
      "Processing URL: http://web.mta.info/developers/data/nyct/turnstile/turnstile_130824.txt\n",
      "Converting to CSV...\n",
      "Finished 130824!\n",
      "\n",
      "Processing URL: http://web.mta.info/developers/data/nyct/turnstile/turnstile_130817.txt\n",
      "Converting to CSV...\n",
      "Finished 130817!\n",
      "\n",
      "Processing URL: http://web.mta.info/developers/data/nyct/turnstile/turnstile_130810.txt\n",
      "Converting to CSV...\n",
      "Finished 130810!\n",
      "\n",
      "Processing URL: http://web.mta.info/developers/data/nyct/turnstile/turnstile_130803.txt\n",
      "Converting to CSV...\n",
      "Finished 130803!\n",
      "\n",
      "Processing URL: http://web.mta.info/developers/data/nyct/turnstile/turnstile_130727.txt\n",
      "Converting to CSV...\n",
      "Finished 130727!\n",
      "\n",
      "Processing URL: http://web.mta.info/developers/data/nyct/turnstile/turnstile_130720.txt\n",
      "Converting to CSV...\n",
      "Finished 130720!\n",
      "\n",
      "Processing URL: http://web.mta.info/developers/data/nyct/turnstile/turnstile_130713.txt\n",
      "Converting to CSV...\n",
      "Finished 130713!\n",
      "\n",
      "Processing URL: http://web.mta.info/developers/data/nyct/turnstile/turnstile_130706.txt\n",
      "Converting to CSV...\n",
      "Finished 130706!\n",
      "\n",
      "Processing URL: http://web.mta.info/developers/data/nyct/turnstile/turnstile_130629.txt\n",
      "Converting to CSV...\n",
      "Finished 130629!\n",
      "\n",
      "Processing URL: http://web.mta.info/developers/data/nyct/turnstile/turnstile_130622.txt\n",
      "Converting to CSV...\n",
      "Finished 130622!\n",
      "\n",
      "Processing URL: http://web.mta.info/developers/data/nyct/turnstile/turnstile_130615.txt\n",
      "Converting to CSV...\n",
      "Finished 130615!\n",
      "\n",
      "Processing URL: http://web.mta.info/developers/data/nyct/turnstile/turnstile_130608.txt\n",
      "Converting to CSV...\n",
      "Finished 130608!\n",
      "\n",
      "Processing URL: http://web.mta.info/developers/data/nyct/turnstile/turnstile_130601.txt\n",
      "Converting to CSV...\n",
      "Finished 130601!\n",
      "\n",
      "Processing URL: http://web.mta.info/developers/data/nyct/turnstile/turnstile_130525.txt\n",
      "Converting to CSV...\n",
      "Finished 130525!\n",
      "\n",
      "Processing URL: http://web.mta.info/developers/data/nyct/turnstile/turnstile_130518.txt\n",
      "Converting to CSV...\n",
      "Finished 130518!\n",
      "\n",
      "Processing URL: http://web.mta.info/developers/data/nyct/turnstile/turnstile_130511.txt\n",
      "Converting to CSV...\n",
      "Finished 130511!\n",
      "\n",
      "Processing URL: http://web.mta.info/developers/data/nyct/turnstile/turnstile_130504.txt\n",
      "Converting to CSV...\n",
      "Finished 130504!\n",
      "\n",
      "Processing URL: http://web.mta.info/developers/data/nyct/turnstile/turnstile_130427.txt\n",
      "Converting to CSV...\n",
      "Finished 130427!\n",
      "\n",
      "Processing URL: http://web.mta.info/developers/data/nyct/turnstile/turnstile_130420.txt\n",
      "Converting to CSV...\n",
      "Finished 130420!\n",
      "\n",
      "Processing URL: http://web.mta.info/developers/data/nyct/turnstile/turnstile_130413.txt\n",
      "Converting to CSV...\n",
      "Finished 130413!\n",
      "\n",
      "Processing URL: http://web.mta.info/developers/data/nyct/turnstile/turnstile_130406.txt\n",
      "Converting to CSV...\n",
      "Finished 130406!\n",
      "\n",
      "Processing URL: http://web.mta.info/developers/data/nyct/turnstile/turnstile_130330.txt\n",
      "Converting to CSV...\n",
      "Finished 130330!\n",
      "\n",
      "Processing URL: http://web.mta.info/developers/data/nyct/turnstile/turnstile_130323.txt\n",
      "Converting to CSV...\n",
      "Finished 130323!\n",
      "\n",
      "Processing URL: http://web.mta.info/developers/data/nyct/turnstile/turnstile_130316.txt\n",
      "Converting to CSV...\n",
      "Finished 130316!\n",
      "\n",
      "Processing URL: http://web.mta.info/developers/data/nyct/turnstile/turnstile_130309.txt\n",
      "Converting to CSV...\n",
      "Finished 130309!\n",
      "\n",
      "Processing URL: http://web.mta.info/developers/data/nyct/turnstile/turnstile_130302.txt\n",
      "Converting to CSV...\n",
      "Finished 130302!\n",
      "\n",
      "Processing URL: http://web.mta.info/developers/data/nyct/turnstile/turnstile_130223.txt\n",
      "Converting to CSV...\n",
      "Finished 130223!\n",
      "\n",
      "Processing URL: http://web.mta.info/developers/data/nyct/turnstile/turnstile_130216.txt\n",
      "Converting to CSV...\n",
      "Finished 130216!\n",
      "\n",
      "Processing URL: http://web.mta.info/developers/data/nyct/turnstile/turnstile_130209.txt\n",
      "Converting to CSV...\n",
      "Finished 130209!\n",
      "\n",
      "Processing URL: http://web.mta.info/developers/data/nyct/turnstile/turnstile_130202.txt\n",
      "Converting to CSV...\n",
      "Finished 130202!\n",
      "\n",
      "Processing URL: http://web.mta.info/developers/data/nyct/turnstile/turnstile_130126.txt\n",
      "Converting to CSV...\n",
      "Finished 130126!\n",
      "\n",
      "Processing URL: http://web.mta.info/developers/data/nyct/turnstile/turnstile_130119.txt\n",
      "Converting to CSV...\n",
      "Finished 130119!\n",
      "\n",
      "Processing URL: http://web.mta.info/developers/data/nyct/turnstile/turnstile_130112.txt\n",
      "Converting to CSV...\n",
      "Finished 130112!\n",
      "\n",
      "Processing URL: http://web.mta.info/developers/data/nyct/turnstile/turnstile_130105.txt\n",
      "Converting to CSV...\n",
      "Finished 130105!\n",
      "\n"
     ]
    }
   ],
   "source": [
    "# loop the date list\n",
    "for dl in date_list:\n",
    "  # get the file link from the date\n",
    "  url = \"http://web.mta.info/developers/data/nyct/turnstile/turnstile_{}.txt\".format(dl)\n",
    "    \n",
    "  # Getting the file's content\n",
    "  print(\"Processing URL: \" + url)\n",
    "  content = requests.get(url).content.decode(\"utf-8\")\n",
    "\n",
    "  # Save the content in to a csv file\n",
    "  print(\"Converting to CSV...\")\n",
    "\n",
    "  # Save to file in the data folder\n",
    "  f = open(\"./turnstile_{}.csv\".format(dl), \"w\")\n",
    "\n",
    "  # Replace the \\r escape character that's adding an extra line between each record\n",
    "  f.write(content.replace(\"\\r\", \"\"))\n",
    "\n",
    "  f.close()\n",
    "  print(\"Finished \" + dl + \"!\\n\")"
   ]
  },
  {
   "cell_type": "code",
   "execution_count": 40,
   "metadata": {},
   "outputs": [],
   "source": [
    "#All \n",
    "files_names = ['turnstile_130105.csv', 'turnstile_130112.csv', 'turnstile_130119.csv' , 'turnstile_130126.csv' ,\n",
    "'turnstile_130202.csv' , 'turnstile_130209.csv' ,'turnstile_130216.csv' ,'turnstile_130223.csv' ,'turnstile_130302.csv' ,\n",
    "'turnstile_130309.csv' ,'turnstile_130316.csv' ,'turnstile_130323.csv' ,'turnstile_130330.csv' ,'turnstile_130406.csv' ,\n",
    "'turnstile_130413.csv' ,'turnstile_130420.csv' ,'turnstile_130427.csv' ,'turnstile_130504.csv' ,'turnstile_130511.csv' ,\n",
    "'turnstile_130518.csv' ,'turnstile_130525.csv' ,'turnstile_130601.csv' ,'turnstile_130608.csv' ,'turnstile_130615.csv' ,\n",
    "'turnstile_130622.csv' ,'turnstile_130629.csv' ,'turnstile_130706.csv' ,'turnstile_130713.csv' ,'turnstile_130720.csv' ,\n",
    "'turnstile_130727.csv' ,'turnstile_130803.csv' ,'turnstile_130810.csv' ,'turnstile_130817.csv' ,'turnstile_130824.csv' ,\n",
    "'turnstile_130831.csv' ,'turnstile_130907.csv' ,'turnstile_130914.csv' ,'turnstile_130921.csv' ,'turnstile_130928.csv' ,\n",
    "'turnstile_131005.csv' ,'turnstile_131012.csv' ,'turnstile_131019.csv' ,'turnstile_131026.csv' ,\n",
    "'turnstile_131102.csv' ,'turnstile_131109.csv' ,'turnstile_131116.csv' ,'turnstile_131123.csv' ,\n",
    "'turnstile_131130.csv' ,'turnstile_131207.csv' ,'turnstile_131214.csv' ,'turnstile_131221.csv' ,\n",
    "'turnstile_131228.csv' \n",
    "]\n",
    "\n",
    "columns = ['C/A','UNIT','SCP','DATE1','TIME1','DESC1','ENTRIES1','EXITS1','DATE2','TIME2','DESC2','ENTRIES2','EXITS2','DATE3','TIME3','DESC3','ENTRIES3','EXITS3','DATE4','TIME4','DESC4','ENTRIES4','EXITS4','DATE5','TIME5','DESC5','ENTRIES5','EXITS5','DATE6','TIME6','DESC6','ENTRIES6','EXITS6','DATE7','TIME7','DESC7','ENTRIES7','EXITS7','DATE8','TIME8','DESC8','ENTRIES8','EXITS8']\n"
   ]
  },
  {
   "cell_type": "markdown",
   "metadata": {},
   "source": [
    "## Further Data-Cleaning"
   ]
  },
  {
   "cell_type": "code",
   "execution_count": 41,
   "metadata": {},
   "outputs": [],
   "source": [
    "station_loc = LOCATION+'/Remote-Booth-Station.csv' # location of the Remote-Booth-Station.csv file in local machine\n",
    "              \n",
    "station_csv = pd.read_csv(station_loc)\n",
    "\n",
    "LOCATION = 'C:/Users/Harpreet Gaur/Desktop/Turnstile_Analysis/'"
   ]
  },
  {
   "cell_type": "code",
   "execution_count": 42,
   "metadata": {},
   "outputs": [],
   "source": [
    "def assign_station(df, station_csv):\n",
    "    station=[]\n",
    "    station_csv = station_csv.dropna()\n",
    "    for i in range(len(df)):\n",
    "        unit = df.UNIT.values[i]\n",
    "        ca = df['C/A'].values[i]\n",
    "        a = station_csv[(station_csv['Remote']==unit) & (station_csv['Booth']==ca)]\n",
    "        if not a.empty:\n",
    "            station.append(a.Station.values[0])\n",
    "        else:\n",
    "            station.append(np.NaN)\n",
    "    df['Station'] = station\n",
    "    return df\n",
    "\n"
   ]
  },
  {
   "cell_type": "code",
   "execution_count": 43,
   "metadata": {},
   "outputs": [],
   "source": [
    "def remove_recovr_aud():\n",
    "    for i in range(len(files_names)):\n",
    "        data = pd.read_csv(LOCATION + files_names[i], names=columns)\n",
    "        data_fnames = assign_station(data, station_csv)\n",
    "        data_fname_new = data_fnames[(data_fnames['DESC1'] != 'RECOVR AUD') & (data_fnames['DESC2'] != 'RECOVR AUD') & (data_fnames['DESC3'] != 'RECOVR AUD')\n",
    "        & (data_fnames['DESC4'] != 'RECOVR AUD') & (data_fnames['DESC5'] != 'RECOVR AUD') & (data_fnames['DESC6'] != 'RECOVR AUD') & (data_fnames['DESC7'] != 'RECOVR AUD')\n",
    "        & (data_fnames['DESC8'] != 'RECOVR AUD')]\n",
    "        data_fname_new.to_csv(LOCATION + files_names[i])\n",
    "\n",
    "\n",
    "remove_recovr_aud()"
   ]
  },
  {
   "cell_type": "markdown",
   "metadata": {},
   "source": [
    "## Which station has the most number of units?\n"
   ]
  },
  {
   "cell_type": "code",
   "execution_count": 45,
   "metadata": {},
   "outputs": [
    {
     "name": "stdout",
     "output_type": "stream",
     "text": [
      "The station that has the most number of units is: 86 ST\n"
     ]
    }
   ],
   "source": [
    "def station_list():\n",
    "    asd_ = pd.concat([pd.read_csv(LOCATION + files_names[i]) for i in range(len(files_names))], ignore_index=True)\n",
    "    asd = asd_.drop(columns='Unnamed: 0')\n",
    "    \n",
    "    sum_ = asd.groupby(['Station']).UNIT.unique()\n",
    "    stations = list(sum_.keys())\n",
    "    unique = []\n",
    "    for i in range(len(sum_)):\n",
    "        unique.append(len(sum_[i]))\n",
    "        \n",
    "    return stations[unique.index(max(unique))]\n",
    "    \n",
    "print('The station that has the most number of units is: ' + str(station_list()))"
   ]
  },
  {
   "cell_type": "markdown",
   "metadata": {},
   "source": [
    "## What is the total number of entries & exits across the subway system for February 1, 2013?"
   ]
  },
  {
   "cell_type": "code",
   "execution_count": 47,
   "metadata": {},
   "outputs": [],
   "source": [
    "feb = pd.read_csv(LOCATION + 'turnstile_130202.csv')\n"
   ]
  },
  {
   "cell_type": "code",
   "execution_count": 63,
   "metadata": {},
   "outputs": [],
   "source": [
    "\n",
    "def exits(df, day):\n",
    "    exits_ = []\n",
    "    station_ = []\n",
    "    stations = list(df['Station'].unique())\n",
    "    hours = ['0'+str(i)+':00:00' for i in range(0, 4)]\n",
    "    offset = []\n",
    "    for j in range(len(stations)): \n",
    "        df_temp = df[df['Station'] == stations[j]]\n",
    "        exits_stat = []\n",
    "        for i in range(2, len(df_temp)-1):\n",
    "            k = np.nan\n",
    "            for k_0 in range(1,9):\n",
    "                for m in range(len(hours)): # This loop is because not every 1 of Feb starts at the same hours. They start between 00:00:00 and 04:00:00, so we have to loop for this values to get the right one of the row.\n",
    "                    if df_temp['DATE%s' % k_0].values[i] == day and df_temp['TIME%s' % k_0].values[i] == hours[m]:\n",
    "                        k = k_0\n",
    "                        break\n",
    "            \n",
    "            if not np.isnan(k):\n",
    "                if k>1:\n",
    "                        # Here we start in the first hour of Feb 1, and sum the next values until we get to another date.\n",
    "                    kf = range(k+1, 9)\n",
    "                    ki = range(1, k+1)\n",
    "                    lst = [df['EXITS%s' % l][i] for l in kf if df['EXITS%s' % l][i]!=0] + [df['EXITS%s' % l][i+1] for l in ki if df['EXITS%s' % l][i+1]!=0 or df['EXITS%s' % l][i]!=np.nan]\n",
    "                    exits_stat.append(sum(lst) - len(lst)*df['EXITS%s' % (k-1)][i]) # The '- len(lst)*df['EXITS%s' % (k-1)][i]' is to substract the cumulative part.\n",
    "                    offset.append(df['EXITS%s' % (k-1)][i])\n",
    "                    break\n",
    "                    \n",
    "               \n",
    "                elif k == 1:\n",
    "                    lst = [df['EXITS%s' % l][i] for l in range(1, 9) if df['EXITS%s' % l][i]!=0 or df['EXITS%s' % l][i]!=np.nan] \n",
    "                    exits_stat.append(sum(lst) - len(lst)*df['EXITS8'][i-1])\n",
    "                    offset.append(df['EXITS8'][i])\n",
    "                    \n",
    "                    break\n",
    "        exits_.append(sum(exits_stat))\n",
    "        station_.append(stations[j])\n",
    "    exits = []\n",
    "    station = []\n",
    "    for i in range(len(exits_)):\n",
    "        if abs(exits_[i]) < 10000000:\n",
    "            exits.append(exits_[i])\n",
    "            station.append(station_[i])\n",
    "    return exits, offset, station\n"
   ]
  },
  {
   "cell_type": "code",
   "execution_count": 50,
   "metadata": {},
   "outputs": [
    {
     "name": "stdout",
     "output_type": "stream",
     "text": [
      "Total number of entries for Febraury 1: 7281223.0\n",
      "Total number of exits for Febraury 1: 323351.0\n"
     ]
    }
   ],
   "source": [
    "# The 'entries' function is the same as the 'exit' but changing EXITS%s --> ENTRIES%s\n",
    "def entries(df, day):\n",
    "    entries_ = []\n",
    "    station_ = []\n",
    "    stations = list(df['Station'].unique())\n",
    "    hours = ['0'+str(i)+':00:00' for i in range(0, 4)]\n",
    "    offset = []\n",
    "    for j in range(len(stations)):\n",
    "        df_temp = df[df['Station'] == stations[j]]\n",
    "        entries_stat = []\n",
    "        indxs = list(df_temp.index)\n",
    "        for i in range(len(indxs)-1):\n",
    "            k = np.nan\n",
    "            for k_0 in range(1,9):\n",
    "                for m in range(len(hours)):\n",
    "                    if df_temp.loc[indxs[i], 'DATE%s' % k_0] == day and df_temp.loc[indxs[i], 'TIME%s' % k_0] == hours[m]:\n",
    "                        k = k_0\n",
    "                        break\n",
    "            \n",
    "            if not np.isnan(k):\n",
    "                if k>1:\n",
    "                        \n",
    "                    kf = range(k+1, 9)\n",
    "                    ki = range(1, k+1)\n",
    "                    lst = [df_temp.loc[indxs[i], 'ENTRIES%s' % l] for l in kf if df_temp.loc[indxs[i], 'ENTRIES%s' % l]!=0] + [df_temp.loc[indxs[i+1], 'ENTRIES%s' % l] for l in ki if df_temp.loc[indxs[i+1], 'ENTRIES%s' % l]!=0 or df_temp.loc[indxs[i], 'ENTRIES%s' % l]!=np.nan]\n",
    "                    entries_stat.append(sum(lst) - len(lst)*df_temp.loc[indxs[i], 'ENTRIES%s' % (k-1)])\n",
    "                    offset.append(df_temp.loc[indxs[i], 'ENTRIES%s' % (k-1)])\n",
    "                    break\n",
    "                    \n",
    "               \n",
    "                elif k == 1:\n",
    "                    lst = [df_temp.loc[indxs[i], 'ENTRIES%s' % l] for l in range(1, 9) if df_temp.loc[indxs[i], 'ENTRIES%s' % l]!=0 or df_temp.loc[indxs[i], 'ENTRIES%s' % l]!=np.nan] \n",
    "                    entries_stat.append(sum(lst) - len(lst)*df_temp.loc[indxs[i-1], 'ENTRIES8'])\n",
    "                    offset.append(df_temp.loc[indxs[i], 'ENTRIES8'])\n",
    "                    \n",
    "                    break\n",
    "        entries_.append(sum(entries_stat))\n",
    "        station_.append(stations[j])\n",
    "    entries = []\n",
    "    station = []\n",
    "    for i in range(len(entries_)):\n",
    "        if abs(entries_[i]) < 10000000:\n",
    "            entries.append(entries_[i])\n",
    "            station.append(station_[i])\n",
    "    return entries, offset, station\n",
    "    \n",
    "entries_01, entries_31, stations_ent = entries(feb, '02-01-13')\n",
    "exits_01, exits_31, stations_ex = exits(feb, '02-01-13')\n",
    "\n",
    "print('Total number of entries for Febraury 1: ' + str(sum(entries_01)))\n",
    "print('Total number of exits for Febraury 1: ' + str(sum(exits_01)))"
   ]
  },
  {
   "cell_type": "markdown",
   "metadata": {},
   "source": [
    "## Let’s define the busy-ness as sum of entry & exit count. What station was the busiest on February 1, 2013? What turnstile was the busiest on that date?"
   ]
  },
  {
   "cell_type": "code",
   "execution_count": 51,
   "metadata": {},
   "outputs": [
    {
     "name": "stdout",
     "output_type": "stream",
     "text": [
      "The bussiest station on 1 Feb was: AVE U\n"
     ]
    }
   ],
   "source": [
    "business = [entries_01[i] + exits_01[i] for i in range(len(entries_01))]\n",
    "ind = business.index(max(business))  \n",
    "print('The bussiest station on 1 Feb was: ' + str(stations_ent[ind]))"
   ]
  },
  {
   "cell_type": "code",
   "execution_count": 54,
   "metadata": {},
   "outputs": [],
   "source": [
    "feb = pd.read_csv(LOCATION + 'turnstile_130202.csv')\n",
    "\n",
    "\n",
    "def exits(df, day):\n",
    "    exits_ = []\n",
    "    station_ = []\n",
    "    stations = list(df['SCP'].unique())\n",
    "    hours = ['0'+str(i)+':00:00' for i in range(0, 4)]\n",
    "    offset = []\n",
    "    for j in range(len(stations)):\n",
    "        df_temp = df[df['SCP'] == stations[j]]\n",
    "        exits_stat = []\n",
    "        for i in range(2, len(df_temp)-1):\n",
    "            k = np.nan\n",
    "            for k_0 in range(1,9):\n",
    "                for m in range(len(hours)):\n",
    "                    if df_temp['DATE%s' % k_0].values[i] == day and df_temp['TIME%s' % k_0].values[i] == hours[m]:\n",
    "                        k = k_0\n",
    "                        break\n",
    "            \n",
    "            if not np.isnan(k):\n",
    "                if k>1:\n",
    "                        \n",
    "                    kf = range(k+1, 9)\n",
    "                    ki = range(1, k+1)\n",
    "                    lst = [df['EXITS%s' % l][i] for l in kf if df['EXITS%s' % l][i]!=0] + [df['EXITS%s' % l][i+1] for l in ki if df['EXITS%s' % l][i+1]!=0 or df['EXITS%s' % l][i]!=np.nan]\n",
    "                    exits_stat.append(sum(lst) - len(lst)*df['EXITS%s' % (k-1)][i])\n",
    "                    offset.append(df['EXITS%s' % (k-1)][i])\n",
    "                    break\n",
    "                    \n",
    "               \n",
    "                elif k == 1:\n",
    "                    lst = [df['EXITS%s' % l][i] for l in range(1, 9) if df['EXITS%s' % l][i]!=0 or df['EXITS%s' % l][i]!=np.nan] \n",
    "                    exits_stat.append(sum(lst) - len(lst)*df['EXITS8'][i-1])\n",
    "                    offset.append(df['EXITS8'][i])\n",
    "                    \n",
    "                    break\n",
    "        exits_.append(sum(exits_stat))\n",
    "        station_.append(stations[j])\n",
    "    exits = []\n",
    "    station = []\n",
    "    for i in range(len(exits_)):\n",
    "        if abs(exits_[i]) < 10000000:\n",
    "            exits.append(exits_[i])\n",
    "            station.append(station_[i])\n",
    "    return exits, offset, station\n",
    "\n"
   ]
  },
  {
   "cell_type": "code",
   "execution_count": 55,
   "metadata": {},
   "outputs": [],
   "source": [
    "def entries(df, day):\n",
    "    entries_ = []\n",
    "    station_ = []\n",
    "    stations = list(df['SCP'].unique())\n",
    "    hours = ['0'+str(i)+':00:00' for i in range(0, 4)]\n",
    "    offset = []\n",
    "    for j in range(len(stations)):\n",
    "        df_temp = df[df['SCP'] == stations[j]]\n",
    "        entries_stat = []\n",
    "        indxs = list(df_temp.index)\n",
    "        for i in range(len(indxs)-1):\n",
    "            k = np.nan\n",
    "            for k_0 in range(1,9):\n",
    "                for m in range(len(hours)):\n",
    "                    if df_temp.loc[indxs[i], 'DATE%s' % k_0] == day and df_temp.loc[indxs[i], 'TIME%s' % k_0] == hours[m]:\n",
    "                        k = k_0\n",
    "                        break\n",
    "            \n",
    "            if not np.isnan(k):\n",
    "                if k>1:\n",
    "                        \n",
    "                    kf = range(k+1, 9)\n",
    "                    ki = range(1, k+1)\n",
    "                    lst = [df_temp.loc[indxs[i], 'ENTRIES%s' % l] for l in kf if df_temp.loc[indxs[i], 'ENTRIES%s' % l]!=0] + [df_temp.loc[indxs[i+1], 'ENTRIES%s' % l] for l in ki if df_temp.loc[indxs[i+1], 'ENTRIES%s' % l]!=0 or df_temp.loc[indxs[i], 'ENTRIES%s' % l]!=np.nan]\n",
    "                    entries_stat.append(sum(lst) - len(lst)*df_temp.loc[indxs[i], 'ENTRIES%s' % (k-1)])\n",
    "                    offset.append(df_temp.loc[indxs[i], 'ENTRIES%s' % (k-1)])\n",
    "                    break\n",
    "                    \n",
    "               \n",
    "                elif k == 1:\n",
    "                    lst = [df_temp.loc[indxs[i], 'ENTRIES%s' % l] for l in range(1, 9) if df_temp.loc[indxs[i], 'ENTRIES%s' % l]!=0 or df_temp.loc[indxs[i], 'ENTRIES%s' % l]!=np.nan] \n",
    "                    entries_stat.append(sum(lst) - len(lst)*df_temp.loc[indxs[i-1], 'ENTRIES8'])\n",
    "                    offset.append(df_temp.loc[indxs[i], 'ENTRIES8'])\n",
    "                    \n",
    "                    break\n",
    "        entries_.append(sum(entries_stat))\n",
    "        station_.append(stations[j])\n",
    "    entries = []\n",
    "    station = []\n",
    "    for i in range(len(entries_)):\n",
    "        if abs(entries_[i]) < 10000000:\n",
    "            entries.append(entries_[i])\n",
    "            station.append(station_[i])\n",
    "    return entries, offset, station"
   ]
  },
  {
   "cell_type": "code",
   "execution_count": 56,
   "metadata": {},
   "outputs": [
    {
     "name": "stdout",
     "output_type": "stream",
     "text": [
      "The bussiest turnstile on 1 Feb was: 03-00-03\n"
     ]
    }
   ],
   "source": [
    "entries_01, entries_31, stations_ent = entries(feb, '02-01-13')\n",
    "exits_01, exits_31, stations_ex = exits(feb, '02-01-13')\n",
    "\n",
    "business = [entries_01[i] + exits_01[i] for i in range(len(entries_01))]\n",
    "\n",
    "ind = business.index(max(business))\n",
    "\n",
    "print('The bussiest turnstile on 1 Feb was: ' + str(stations_ent[ind]))"
   ]
  },
  {
   "cell_type": "markdown",
   "metadata": {},
   "source": [
    "### Usefull functions to be used later on"
   ]
  },
  {
   "cell_type": "code",
   "execution_count": 59,
   "metadata": {},
   "outputs": [],
   "source": [
    "def total_entries(data):\n",
    "    df = data.copy() \n",
    "    indexs = list(df.index)\n",
    "    for i in range(len(indexs)):\n",
    "        for k in range(1,9): # Iterate over the columns\n",
    "            if not np.isnan(df.loc[indexs[i], 'ENTRIES%s' % (k)]): # If the corresponding cell is not empty:\n",
    "                if k>1: # If it's not the first cell:\n",
    "                    point = df.at[indexs[i], 'ENTRIES%s' % (k)] - df.at[indexs[i], 'ENTRIES%s' % (k-1)] # substract the cumulative part\n",
    "                    if point > 0 and point < 100000: #If the substracion is nos an outlier:\n",
    "                        df.at[indexs[i], 'ENTRIES%s' % (k)] = point  # Replace the cell by the value without the cumulative part\n",
    "                    else:  # If it was an outlier, replace it by 0\n",
    "                        df.at[indexs[i], 'ENTRIES%s' % (k)]  = 0\n",
    "                elif k == 1 and indexs[i] == indexs[i-1]+1: \n",
    "                    try:\n",
    "                        point = df.at[indexs[i], 'ENTRIES1'] - df.at[indexs[i-1], 'ENTRIES8']\n",
    "                        if point < 100000 and point > 0 :\n",
    "                            df.at[indexs[i], 'ENTRIES1'] = point\n",
    "                        else:\n",
    "                            df.at[indexs[i], 'ENTRIES1'] = 0\n",
    "                    except KeyError:\n",
    "                        continue\n",
    "    return df\n",
    "\n",
    "\n",
    "# The same as the funtion before, but with the exits\n",
    "def total_exits(data):\n",
    "    df = data.copy()\n",
    "    indexs = list(df.index)\n",
    "    for i in range(len(indexs)):\n",
    "        for k in range(1,9):\n",
    "            if not np.isnan(df.loc[indexs[i], 'ENTRIES%s' % (k)]):\n",
    "                if k>1:\n",
    "                    point = df.at[indexs[i], 'EXITS%s' % (k)] - df.at[indexs[i], 'EXITS%s' % (k-1)]\n",
    "                    if point > 0 and point < 100000: \n",
    "                        df.at[indexs[i], 'EXITS%s' % (k)] = point\n",
    "                    else:\n",
    "                        df.at[indexs[i], 'EXITS%s' % (k)]  = 0\n",
    "                elif k == 1 and indexs[i] == indexs[i-1]+1  :\n",
    "                    try:\n",
    "                        point = df.at[indexs[i], 'EXITS1'] - df.at[indexs[i-1], 'EXITS8']\n",
    "                        if point < 100000 and point > 0 :\n",
    "                            df.at[indexs[i], 'EXITS1'] = point\n",
    "                        else:\n",
    "                            df.at[indexs[i], 'EXITS1'] = 0\n",
    "                    except KeyError:\n",
    "                        continue\n",
    "\n",
    "    return df\n",
    "\n",
    "def filter_(df):   # This is a filter for the outliers. My criterion was that if a value (tipically of entries or exits) was bigger than 1000000, then I would replace it by the next value.\n",
    "    for i in range(len(df)):\n",
    "        if abs(df[i]) > 1000000:\n",
    "            df[i] = df[i+1]\n",
    "    return df"
   ]
  },
  {
   "cell_type": "markdown",
   "metadata": {},
   "source": [
    "## What stations have seen the most usage growth/decline in 2013?\n",
    "We define the growth (decline) of usage in a station as the ratio between the mean of the 3 first (last) weeks with the 3 last (first).\n",
    "\n",
    "If the growth is >5, then that station is included in the most growth usage.\n",
    "\n",
    "If the decline is <1, then that station is included in the most decline usage."
   ]
  },
  {
   "cell_type": "code",
   "execution_count": 60,
   "metadata": {},
   "outputs": [
    {
     "name": "stdout",
     "output_type": "stream",
     "text": [
      "/////\n",
      "The stations that have seen the most usage growth in 2013 are: ['BROAD ST', 'BOTANIC GARDEN', 'NEWKIRK AVE', '36 ST', '8 AVE', 'NEW UTRECHT AVE', '20 AVE', 'STILLWELL AVE', 'ROCKAWAY PKY', 'FRESH POND ROAD', 'W 4 ST-WASH SQ', 'UTICA AVE', 'KINGSBRIDGE RD', '7 AVE-53 ST', 'QUEENS PLAZA', 'NORTHERN BLVD', 'MYRTLE-WILLOUGH', '2 AVE', 'HOUSTON ST', 'E TREMONT AVE', 'E 177 ST-PARKCH', '5 AVE-53 ST', 'ROCKAWAY PK 116']\n",
      "/////\n",
      "The stations that have seen the most usage decline in 2013 are: ['LEXINGTON AVE', '5 AVE-59 ST', '49 ST-7 AVE', '42 ST-TIMES SQ', '34 ST-HERALD SQ', '23 ST-5 AVE', '14 ST-UNION SQ', \"PRINCE ST-B'WAY\", 'CANAL ST', \"MURRAY ST-B'WAY\", 'CORTLANDT ST', 'RECTOR ST', 'CHAMBERS ST', '7 AVE', 'PROSPECT PARK', 'CHURCH AVE', 'AVE J', 'AVE U', 'OCEAN PARKWAY', 'BOROUGH HALL/CT', 'JAY ST-METROTEC', 'DEKALB AVE', 'PACIFIC ST', '9 ST', '25 ST', '59 ST', '86 ST', 'BAY RIDGE-95 ST', '18 AVE', 'BAY PKY-22 AVE', '50 ST', 'BAY PARKWAY', 'W 8 ST-AQUARIUM', '6 AVE', 'LORIMER ST', 'GRAND ST', 'MORGAN AVE', 'HALSEY ST', 'ATLANTIC AVE', 'LIVONIA AVE', 'NEW LOTS AVE', 'EAST 105 ST', 'MARCY AVE', 'FLUSHING AVE', 'VAN SICLEN AVE', 'NORWOOD AVE', 'WOODHAVEN BLVD', '121 ST', 'METROPOLITAN AV', 'INWOOD-207 ST', '175 ST', '168 ST-BROADWAY', '145 ST', '135 ST', '103 ST', '96 ST', '72 ST', '59 ST-COLUMBUS', '42 ST-PA BUS TE', '34 ST-PENN STA', '23 ST', 'SPRING ST', 'WORLD TRADE CTR', 'FULTON ST', 'CLINTON-WASH AV', 'FRANKLIN AVE', 'NOSTRAND AVE', 'ROCKAWAY AVE', 'EUCLID AVE', 'ROCKAWAY BLVD', 'HOWARD BCH-JFK', '161 ST-YANKEE', '167 ST', '170 ST', 'FORDHAM ROAD', 'BEDFORD PARK BL', 'ROOSEVELT AVE', 'ELMHURST AVE', 'GRAND AV-NEWTON', '63 DR-REGO PARK', '67 AVE', '75 AVE', 'UNION TPK-KEW G', 'VAN WYCK BLVD', 'SUTPHIN BLVD', 'PARSONS BLVD', '169 ST', 'JAMAICA-179 ST', 'COURT SQ', 'GREENPOINT AVE', 'NASSAU AV', 'BROADWAY', 'BEDFORD/NOSTRAN', '47-50 ST-ROCK', '14 ST-6 AVE', 'EAST BROADWAY', 'YORK ST', 'BERGEN ST', 'CARROLL ST', '7 AV-PARK SLOPE', 'AVE I', '22 AVE-BAY PKY', '21 ST', 'JAMAICA CENTER', 'PAVONIA/NEWPORT', 'CHRISTOPHER ST', '9TH STREET', 'FRANKLIN ST', '28 ST', '66 ST-LINCOLN', 'DYCKMAN ST', '207 ST', 'MARBLE HILL-225', '231 ST', 'BOWLING GREEN', 'BROOKLYN BRIDGE', '42 ST-GRD CNTRL', '149 ST-3 AVE', 'JACKSON AVE', 'SIMPSON ST', 'FREEMAN ST', 'E 180 ST', 'GUN HILL ROAD', '233 ST', 'BROOK AVE', 'ST LAWRENCE AVE', 'CASTLE HILL AVE', 'ZEREGA AVE', 'HUNTERS PT AVE', '33 ST/RAWSON ST', '46 ST-BLISS ST', '69 ST-FISK AVE', '82 ST-JACKSON H', 'JUNCTION BLVD', '103 ST-CORONA', 'MAIN ST', 'HOYT ST', 'NEVINS ST', 'EASTERN PKWY', 'CROWN HTS-UTICA', 'FLATBUSH AVE', 'MORRIS PARK', 'TOMPKINSVILLE', 'RIT-ROOSEVELT', 'BEACH 98 ST', 'BEACH 105 ST']\n",
      "/////\n"
     ]
    },
    {
     "name": "stderr",
     "output_type": "stream",
     "text": [
      "C:\\Anaconda\\lib\\site-packages\\ipykernel_launcher.py:29: RuntimeWarning: divide by zero encountered in double_scalars\n",
      "C:\\Anaconda\\lib\\site-packages\\ipykernel_launcher.py:27: RuntimeWarning: divide by zero encountered in double_scalars\n",
      "C:\\Anaconda\\lib\\site-packages\\ipykernel_launcher.py:27: RuntimeWarning: invalid value encountered in double_scalars\n",
      "C:\\Anaconda\\lib\\site-packages\\ipykernel_launcher.py:29: RuntimeWarning: invalid value encountered in double_scalars\n"
     ]
    }
   ],
   "source": [
    "def usage_station():\n",
    "    data_ = pd.concat([pd.read_csv(LOCATION + files_names[i] ) for i in range(len(files_names))], ignore_index=True)\n",
    "    data_ = data_.drop(columns='Unnamed: 0')\n",
    "    stations = list(data_['Station'].unique())\n",
    "    business = []\n",
    "\n",
    "    for j in range(len(stations)):\n",
    "        data = data_[data_.Station == stations[j]]\n",
    "        data = total_entries(data)\n",
    "        data = total_exits(data)\n",
    "        \n",
    "        suma_ent = data.groupby(['DATE1']).ENTRIES1.sum()  + data.groupby(['DATE1']).ENTRIES2.sum() + data.groupby(['DATE1']).ENTRIES3.sum() + data.groupby(['DATE1']).ENTRIES4.sum() + data.groupby(['DATE1']).ENTRIES5.sum() + data.groupby(['DATE1']).ENTRIES6.sum() + data.groupby(['DATE1']).ENTRIES7.sum() + data.groupby(['DATE1']).ENTRIES8.sum()\n",
    "        suma_ex = data.groupby(['DATE1']).EXITS1.sum()  + data.groupby(['DATE1']).EXITS2.sum() + data.groupby(['DATE1']).EXITS3.sum() + data.groupby(['DATE1']).EXITS4.sum() + data.groupby(['DATE1']).EXITS5.sum() + data.groupby(['DATE1']).EXITS6.sum() + data.groupby(['DATE1']).EXITS7.sum() + data.groupby(['DATE1']).EXITS8.sum()\n",
    "        \n",
    "        business.append([suma_ent[i] + suma_ex[i] for i in range(len(suma_ent))])\n",
    "\n",
    "    return business, stations\n",
    "\n",
    "\n",
    "business, stations = usage_station()\n",
    "growth = []\n",
    "decline = []\n",
    "for i in range(len(business)):\n",
    "    if len(business[i]) > 7:\n",
    "        initial = np.mean(business[i][0:3])\n",
    "        final = np.mean(business[i][-4:-1])\n",
    "        if initial/final > 5 and final != 0:\n",
    "            growth.append(stations[i])\n",
    "        elif final/initial > 2 and initial != 0:\n",
    "            decline.append(stations[i])\n",
    "        \n",
    "print('/////')\n",
    "print('The stations that have seen the most usage growth in 2013 are: ' + str(growth))\n",
    "print('/////')\n",
    "print('The stations that have seen the most usage decline in 2013 are: ' + str(decline))\n",
    "print('/////')"
   ]
  },
  {
   "cell_type": "markdown",
   "metadata": {},
   "source": [
    "## What dates are the least busy? Could you identify days on which stations were not operating at full capacity or closed entirely?"
   ]
  },
  {
   "cell_type": "markdown",
   "metadata": {},
   "source": [
    "### Busy days"
   ]
  },
  {
   "cell_type": "code",
   "execution_count": 62,
   "metadata": {},
   "outputs": [
    {
     "name": "stdout",
     "output_type": "stream",
     "text": [
      "/////\n",
      "Least busy days: ['01-01-13', '01-04-13', '01-08-13', '01-11-13', '01-18-13', '01-22-13', '01-25-13', '02-01-13', '02-08-13', '02-12-13', '02-15-13', '02-19-13', '02-22-13', '03-01-13', '03-08-13', '03-15-13', '04-26-13', '05-17-13', '05-24-13', '05-28-13', '05-31-13', '06-07-13', '06-11-13', '06-21-13', '06-28-13', '07-12-13', '07-19-13', '07-26-13', '08-02-13', '08-06-13', '08-09-13', '08-16-13', '08-23-13', '08-30-13', '09-06-13', '09-10-13', '09-13-13', '09-20-13', '09-27-13', '10-04-13', '10-11-13', '10-18-13', '10-22-13', '10-25-13', '11-08-13', '11-12-13', '11-15-13', '11-22-13', '11-26-13', '11-29-13', '12-06-13', '12-13-13', '12-17-13', '12-20-13', '12-24-13', '12-27-13']\n",
      "/////\n"
     ]
    },
    {
     "name": "stderr",
     "output_type": "stream",
     "text": [
      "C:\\Anaconda\\lib\\site-packages\\numpy\\core\\fromnumeric.py:3118: RuntimeWarning: Mean of empty slice.\n",
      "  out=out, **kwargs)\n",
      "C:\\Anaconda\\lib\\site-packages\\numpy\\core\\_methods.py:85: RuntimeWarning: invalid value encountered in double_scalars\n",
      "  ret = ret.dtype.type(ret / rcount)\n"
     ]
    },
    {
     "name": "stdout",
     "output_type": "stream",
     "text": [
      "Station not operating at full capacity days: []\n",
      "Station closed entirely days: set()\n",
      "/////\n"
     ]
    }
   ],
   "source": [
    "\n",
    "def busy_days():\n",
    "    data = pd.concat([pd.read_csv(LOCATION + files_names[i]) for i in range(len(files_names))], ignore_index=True)\n",
    "    data = data.drop(columns='Unnamed: 0')\n",
    "\n",
    "    data = total_entries(data)\n",
    "    data = total_exits(data)\n",
    "    \n",
    "    suma_ent = data.groupby(['DATE1']).ENTRIES1.sum()  + data.groupby(['DATE1']).ENTRIES2.sum() + data.groupby(['DATE1']).ENTRIES3.sum() + data.groupby(['DATE1']).ENTRIES4.sum() + data.groupby(['DATE1']).ENTRIES5.sum() + data.groupby(['DATE1']).ENTRIES6.sum() + data.groupby(['DATE1']).ENTRIES7.sum() + data.groupby(['DATE1']).ENTRIES8.sum()\n",
    "    suma_ex = data.groupby(['DATE1']).EXITS1.sum()  + data.groupby(['DATE1']).EXITS2.sum() + data.groupby(['DATE1']).EXITS3.sum() + data.groupby(['DATE1']).EXITS4.sum() + data.groupby(['DATE1']).EXITS5.sum() + data.groupby(['DATE1']).EXITS6.sum() + data.groupby(['DATE1']).EXITS7.sum() + data.groupby(['DATE1']).EXITS8.sum()\n",
    "    \n",
    "    business = [suma_ent[i] + suma_ex[i] for i in range(len(suma_ent))]\n",
    "    \n",
    "    mean = np.mean(business)\n",
    "    std = np.std(business)\n",
    "    least_use = []\n",
    "\n",
    "    for i in range(len(business)):\n",
    "        if business[i] < mean - std:\n",
    "            least_use.append(suma_ent.keys()[i])\n",
    "\n",
    "\n",
    "    return print('Least busy days: ' + str(least_use))\n",
    "\n",
    "def closed_days():\n",
    "    data = pd.concat([pd.read_csv(LOCATION + files_names[i]) for i in range(len(files_names))], ignore_index=True)\n",
    "    data = data.drop(columns='Unnamed: 0')\n",
    "    stations = list(data.Station.unique())\n",
    "    for j in range(len(stations)):\n",
    "        data = data[data.Station == stations[j]]\n",
    "        data = total_entries(data)\n",
    "        data = total_exits(data)\n",
    "        \n",
    "        suma_ent = data.groupby(['DATE1']).ENTRIES1.sum()  + data.groupby(['DATE1']).ENTRIES2.sum() + data.groupby(['DATE1']).ENTRIES3.sum() + data.groupby(['DATE1']).ENTRIES4.sum() + data.groupby(['DATE1']).ENTRIES5.sum() + data.groupby(['DATE1']).ENTRIES6.sum() + data.groupby(['DATE1']).ENTRIES7.sum() + data.groupby(['DATE1']).ENTRIES8.sum()\n",
    "        suma_ex = data.groupby(['DATE1']).EXITS1.sum()  + data.groupby(['DATE1']).EXITS2.sum() + data.groupby(['DATE1']).EXITS3.sum() + data.groupby(['DATE1']).EXITS4.sum() + data.groupby(['DATE1']).EXITS5.sum() + data.groupby(['DATE1']).EXITS6.sum() + data.groupby(['DATE1']).EXITS7.sum() + data.groupby(['DATE1']).EXITS8.sum()\n",
    "        \n",
    "        business = [suma_ent[i] + suma_ex[i] for i in range(len(suma_ent))]\n",
    "        \n",
    "\n",
    "        mean = np.mean(business)\n",
    "        least_use = []\n",
    "        cero_use = []\n",
    "        for i in range(len(business)):\n",
    "            if business[i] < 0.05*mean:\n",
    "                least_use.append(suma_ent.keys()[i])\n",
    "\n",
    "            if business[i] == 0.0:\n",
    "                cero_use.append(suma_ent.keys()[i])\n",
    "\n",
    "    return print('Station not operating at full capacity days: ' + str(least_use)), print('Station closed entirely days: ' + str(set(cero_use)))\n",
    "\n",
    "print('/////')\n",
    "busy_days()\n",
    "print('/////')\n"
   ]
  },
  {
   "cell_type": "markdown",
   "metadata": {},
   "source": [
    "### Closed Days"
   ]
  },
  {
   "cell_type": "code",
   "execution_count": 93,
   "metadata": {},
   "outputs": [
    {
     "name": "stdout",
     "output_type": "stream",
     "text": [
      "/////\n",
      "Station not operating at full capacity days: ['01-01-13', '01-08-13', '01-11-13', '01-17-13', '01-20-13', '01-21-13', '01-22-13', '01-23-13', '01-24-13', '01-25-13', '01-27-13', '01-29-13', '01-30-13', '01-31-13', '02-01-13', '02-03-13', '02-04-13', '02-05-13', '02-06-13', '02-07-13', '02-08-13', '02-10-13', '02-11-13', '02-12-13', '02-14-13', '02-15-13', '02-18-13', '02-19-13', '02-20-13', '02-22-13', '02-26-13', '03-01-13', '03-08-13', '03-10-13', '03-12-13', '03-13-13', '03-15-13', '03-17-13', '03-20-13', '03-21-13', '03-22-13', '03-24-13', '03-26-13', '03-27-13', '03-28-13', '03-29-13', '03-31-13', '04-01-13', '04-05-13', '04-10-13', '04-12-13', '04-16-13', '04-19-13', '04-23-13', '04-24-13', '04-25-13', '04-26-13', '04-28-13', '04-29-13', '05-01-13', '05-02-13', '05-03-13', '05-05-13', '05-06-13', '05-07-13', '05-09-13', '05-10-13', '05-12-13', '05-13-13', '05-14-13', '05-16-13', '05-19-13', '05-20-13', '05-21-13', '05-22-13', '05-24-13', '05-26-13', '05-27-13', '05-28-13', '05-29-13', '05-30-13', '05-31-13', '06-03-13', '06-04-13', '06-05-13', '06-06-13', '06-07-13', '06-09-13', '06-10-13', '06-11-13', '06-13-13', '06-14-13', '06-16-13', '06-17-13', '06-19-13', '06-20-13', '06-21-13', '06-23-13', '06-24-13', '06-25-13', '06-26-13', '06-27-13', '06-28-13', '06-30-13', '07-01-13', '07-03-13', '07-04-13', '07-05-13', '07-07-13', '07-08-13', '07-10-13', '07-11-13', '07-12-13', '07-14-13', '07-15-13', '07-16-13', '07-17-13', '07-18-13', '07-21-13', '07-22-13', '07-24-13', '07-26-13', '07-28-13', '07-29-13', '07-30-13', '07-31-13', '08-01-13', '08-04-13', '08-05-13', '08-06-13', '08-07-13', '08-08-13', '08-09-13', '08-11-13', '08-12-13', '08-14-13', '08-15-13', '08-16-13', '08-18-13', '08-19-13', '08-20-13', '08-22-13', '08-23-13', '08-25-13', '08-26-13', '08-28-13', '08-30-13', '09-02-13', '09-04-13', '09-05-13', '09-06-13', '09-08-13', '09-09-13', '09-10-13', '09-11-13', '09-12-13', '09-13-13', '09-15-13', '09-16-13', '09-18-13', '09-19-13', '09-20-13', '09-22-13', '09-23-13', '09-24-13', '09-26-13', '09-27-13', '09-29-13', '09-30-13', '10-01-13', '10-02-13', '10-04-13', '10-06-13', '10-07-13', '10-08-13', '10-10-13', '10-11-13', '10-13-13', '10-15-13', '10-16-13', '10-17-13', '10-18-13', '10-20-13', '10-21-13', '10-22-13', '10-23-13', '10-24-13', '10-25-13', '10-27-13', '10-30-13', '10-31-13', '11-01-13', '11-03-13', '11-04-13', '11-05-13', '11-06-13', '11-07-13', '11-10-13', '11-11-13', '11-13-13', '11-14-13', '11-15-13', '11-17-13', '11-18-13', '11-19-13', '11-20-13', '11-21-13', '11-25-13', '11-26-13', '11-27-13', '11-28-13', '11-29-13', '12-01-13', '12-03-13', '12-06-13', '12-09-13', '12-10-13', '12-11-13', '12-12-13', '12-13-13', '12-15-13', '12-16-13', '12-17-13', '12-18-13', '12-19-13', '12-20-13', '12-22-13', '12-23-13', '12-24-13', '12-25-13', '12-26-13', '12-27-13']\n",
      "\n",
      "\n",
      "Station closed entirely days: {'01-22-13', '10-01-13', '06-05-13', '08-14-13', '02-26-13', '10-17-13', '12-03-13', '01-08-13', '12-17-13', '11-06-13', '06-27-13', '09-05-13', '02-12-13', '08-22-13', '04-23-13', '08-06-13'}\n",
      "/////\n"
     ]
    }
   ],
   "source": [
    "\n",
    "def closed_days():\n",
    "    data = pd.concat([pd.read_csv(LOCATION + files_names[i]) for i in range(len(files_names))], ignore_index=True)\n",
    "    data = data.drop(columns='Unnamed: 0')\n",
    "    stations = list(data.Station.unique())\n",
    "    least_use = []\n",
    "    cero_use = []\n",
    "    for j in range(len(stations)):\n",
    "        data = data[data.Station == stations[j]]\n",
    "        data = total_entries(data)\n",
    "        data = total_exits(data)\n",
    "        \n",
    "        suma_ent = data.groupby(['DATE1']).ENTRIES1.sum()  + data.groupby(['DATE1']).ENTRIES2.sum() + data.groupby(['DATE1']).ENTRIES3.sum() + data.groupby(['DATE1']).ENTRIES4.sum() + data.groupby(['DATE1']).ENTRIES5.sum() + data.groupby(['DATE1']).ENTRIES6.sum() + data.groupby(['DATE1']).ENTRIES7.sum() + data.groupby(['DATE1']).ENTRIES8.sum()\n",
    "        suma_ex = data.groupby(['DATE1']).EXITS1.sum()  + data.groupby(['DATE1']).EXITS2.sum() + data.groupby(['DATE1']).EXITS3.sum() + data.groupby(['DATE1']).EXITS4.sum() + data.groupby(['DATE1']).EXITS5.sum() + data.groupby(['DATE1']).EXITS6.sum() + data.groupby(['DATE1']).EXITS7.sum() + data.groupby(['DATE1']).EXITS8.sum()\n",
    "        \n",
    "        business = [suma_ent[i] + suma_ex[i] for i in range(len(suma_ent))]\n",
    "        \n",
    "\n",
    "        mean = np.mean(business)\n",
    "\n",
    "        for i in range(len(business)):\n",
    "            if business[i] < 0.1*mean:\n",
    "                least_use.append(suma_ent.keys()[i])\n",
    "\n",
    "            if business[i] == 0.0:\n",
    "                cero_use.append(suma_ent.keys()[i])\n",
    "\n",
    "    return print('Station not operating at full capacity days: ' + str(least_use)), print('\\n') , print('Station closed entirely days: ' + str(set(cero_use)))\n",
    "\n",
    "print('/////')\n",
    "closed_days()\n",
    "print('/////')"
   ]
  },
  {
   "cell_type": "markdown",
   "metadata": {},
   "source": [
    "## Plots"
   ]
  },
  {
   "cell_type": "markdown",
   "metadata": {},
   "source": [
    "### Daily row count"
   ]
  },
  {
   "cell_type": "code",
   "execution_count": 67,
   "metadata": {},
   "outputs": [
    {
     "data": {
      "image/png": "[encoded data removed]",
      "text/plain": [
       "<Figure size 600x400 with 1 Axes>"
      ]
     },
     "metadata": {
      "needs_background": "light"
     },
     "output_type": "display_data"
    }
   ],
   "source": [
    "plt.rcParams['figure.dpi'] = 100\n",
    "\n",
    "Q_1 = list(reversed(['turnstile_130330.csv', 'turnstile_130323.csv' , 'turnstile_130316.csv' \n",
    "                     ,'turnstile_130309.csv' , 'turnstile_130302.csv', 'turnstile_130223.csv' \n",
    "                     , 'turnstile_130216.csv' , 'turnstile_130209.csv' , 'turnstile_130202.csv' \n",
    "                     , 'turnstile_130126.csv' , 'turnstile_130119.csv' , 'turnstile_130112.csv', 'turnstile_130105.csv']))\n",
    "\n",
    "def plot_1():\n",
    "    data = pd.concat([pd.read_csv(LOCATION + Q_1[i] ) for i in range(len(Q_1))], ignore_index=True)\n",
    "    data = data.drop(columns='Unnamed: 0')\n",
    "    data = total_entries(data)\n",
    "    \n",
    "    suma_ent = data.groupby(['DATE1']).ENTRIES1.sum()  + data.groupby(['DATE1']).ENTRIES2.sum() + data.groupby(['DATE1']).ENTRIES3.sum() + data.groupby(['DATE1']).ENTRIES4.sum() + data.groupby(['DATE1']).ENTRIES5.sum() + data.groupby(['DATE1']).ENTRIES6.sum() + data.groupby(['DATE1']).ENTRIES7.sum() + data.groupby(['DATE1']).ENTRIES8.sum()\n",
    "\n",
    "    plt.figure(1)\n",
    "    suma_ent.plot(label='Total riders')\n",
    "    plt.xlabel('Dates')\n",
    "    plt.ylabel('Counts')\n",
    "    plt.legend()\n",
    "    plt.grid()\n",
    "\n",
    "plot_1()"
   ]
  },
  {
   "cell_type": "markdown",
   "metadata": {},
   "source": [
    "### Plot the daily total number of entries & exits across the system for Q1 2013."
   ]
  },
  {
   "cell_type": "code",
   "execution_count": 71,
   "metadata": {},
   "outputs": [
    {
     "data": {
      "image/png": "[encoded data removed]",
      "text/plain": [
       "<Figure size 600x400 with 1 Axes>"
      ]
     },
     "metadata": {
      "needs_background": "light"
     },
     "output_type": "display_data"
    }
   ],
   "source": [
    "Q_1 = list(reversed(['turnstile_130330.csv', 'turnstile_130323.csv' , 'turnstile_130316.csv' \n",
    "                     ,'turnstile_130309.csv' , 'turnstile_130302.csv', 'turnstile_130223.csv' \n",
    "                     , 'turnstile_130216.csv' , 'turnstile_130209.csv' , 'turnstile_130202.csv' \n",
    "                     , 'turnstile_130126.csv' , 'turnstile_130119.csv' , 'turnstile_130112.csv', 'turnstile_130105.csv']))\n",
    "\n",
    "def plot_2():\n",
    "    data = pd.concat([pd.read_csv(LOCATION + Q_1[i]) for i in range(len(Q_1))], ignore_index=True)\n",
    "    data = data.drop(columns='Unnamed: 0')\n",
    "    data = total_entries(data)\n",
    "    data = total_exits(data)\n",
    "    \n",
    "    suma_ent = data.groupby(['DATE1']).ENTRIES1.sum()  + data.groupby(['DATE1']).ENTRIES2.sum() + data.groupby(['DATE1']).ENTRIES3.sum() + data.groupby(['DATE1']).ENTRIES4.sum() + data.groupby(['DATE1']).ENTRIES5.sum() + data.groupby(['DATE1']).ENTRIES6.sum() + data.groupby(['DATE1']).ENTRIES7.sum() + data.groupby(['DATE1']).ENTRIES8.sum()\n",
    "    suma_ex = data.groupby(['DATE1']).EXITS1.sum()  + data.groupby(['DATE1']).EXITS2.sum() + data.groupby(['DATE1']).EXITS3.sum() + data.groupby(['DATE1']).EXITS4.sum() + data.groupby(['DATE1']).EXITS5.sum() + data.groupby(['DATE1']).EXITS6.sum() + data.groupby(['DATE1']).EXITS7.sum() + data.groupby(['DATE1']).EXITS8.sum()\n",
    "\n",
    "    plt.figure(1)\n",
    "    suma_ent.plot(label='Total entries')\n",
    "    suma_ex.plot(label='Total exits')\n",
    "    plt.xlabel('Dates')\n",
    "    plt.ylabel('Counts')\n",
    "    plt.legend()\n",
    "    plt.grid()\n",
    "\n",
    "plot_2()"
   ]
  },
  {
   "cell_type": "markdown",
   "metadata": {},
   "source": [
    "### Plot the mean and standard deviation of the daily total number of entries & exits for each month in Q1 2013 for station 34 ST-PENN STA."
   ]
  },
  {
   "cell_type": "code",
   "execution_count": 70,
   "metadata": {},
   "outputs": [
    {
     "data": {
      "image/png": "[encoded data removed]",
      "text/plain": [
       "<Figure size 600x400 with 1 Axes>"
      ]
     },
     "metadata": {
      "needs_background": "light"
     },
     "output_type": "display_data"
    },
    {
     "data": {
      "image/png": "[encoded data removed]",
      "text/plain": [
       "<Figure size 600x400 with 1 Axes>"
      ]
     },
     "metadata": {
      "needs_background": "light"
     },
     "output_type": "display_data"
    }
   ],
   "source": [
    "Q_1_3 = list(reversed(['turnstile_130330.csv', 'turnstile_130323.csv' , 'turnstile_130316.csv' \n",
    "                     ,'turnstile_130309.csv' , 'turnstile_130302.csv']))\n",
    "Q_1_2 = list(reversed(['turnstile_130223.csv' \n",
    "                     , 'turnstile_130216.csv' , 'turnstile_130209.csv' , 'turnstile_130202.csv']))\n",
    "Q_1_1 = list(reversed(['turnstile_130126.csv' , 'turnstile_130119.csv' , 'turnstile_130112.csv', 'turnstile_130105.csv',]))\n",
    "\n",
    "\n",
    "plt.rcParams['figure.dpi'] = 100\n",
    "\n",
    "def plot_3():\n",
    "    lst = [Q_1_1, Q_1_2, Q_1_3]\n",
    "    lst_str = ['Jan', 'Feb', 'March']\n",
    "    plt.figure(1)\n",
    "    for j in range(len(lst)):\n",
    "        data = pd.concat([pd.read_csv(LOCATION + lst[j][i], parse_dates=['DATE%s' % k for k in range(1, 9)], infer_datetime_format=True) for i in range(len(Q_1_1))], ignore_index=True)\n",
    "        data = data.drop(columns='Unnamed: 0')\n",
    "        data = data[data['Station'] == '34 ST-PENN STA']\n",
    "        data = total_entries(data)\n",
    "    \n",
    "        suma_ent = data.groupby(['DATE1']).ENTRIES1.sum()  + data.groupby(['DATE1']).ENTRIES2.sum() + data.groupby(['DATE1']).ENTRIES3.sum() + data.groupby(['DATE1']).ENTRIES4.sum() + data.groupby(['DATE1']).ENTRIES5.sum() + data.groupby(['DATE1']).ENTRIES6.sum() + data.groupby(['DATE1']).ENTRIES7.sum() + data.groupby(['DATE1']).ENTRIES8.sum()\n",
    "    \n",
    "        suma_ent = filter_(suma_ent)\n",
    "        \n",
    "        plt.plot(j, np.mean(suma_ent.values), 'ro')\n",
    "        plt.errorbar(j,  np.mean(suma_ent.values), yerr=np.std(suma_ent.values), ecolor='r')\n",
    "    plt.xticks(range(len(lst)), lst_str)\n",
    "    plt.xlabel('Dates')\n",
    "    plt.ylabel('Counts')\n",
    "    plt.legend(['Total entries'])\n",
    "    plt.grid()\n",
    "    plt.title('Entries')\n",
    "    \n",
    "    plt.figure(2)\n",
    "    for j in range(len(lst)):\n",
    "        data = pd.concat([pd.read_csv(LOCATION + lst[j][i], parse_dates=['DATE%s' % k for k in range(1, 9)], infer_datetime_format=True) for i in range(len(Q_1_1))], ignore_index=True)\n",
    "        data = data.drop(columns='Unnamed: 0')\n",
    "        data = data[data['Station'] == '34 ST-PENN STA']\n",
    "        data = total_exits(data)\n",
    "    \n",
    "        suma_ex = data.groupby(['DATE1']).EXITS1.sum()  + data.groupby(['DATE1']).EXITS2.sum() + data.groupby(['DATE1']).EXITS3.sum() + data.groupby(['DATE1']).EXITS4.sum() + data.groupby(['DATE1']).EXITS5.sum() + data.groupby(['DATE1']).EXITS6.sum() + data.groupby(['DATE1']).EXITS7.sum() + data.groupby(['DATE1']).EXITS8.sum()\n",
    "    \n",
    "        suma_ex = filter_(suma_ex)\n",
    "        \n",
    "        plt.plot(j, np.mean(suma_ex.values), 'go')\n",
    "        plt.errorbar(j,  np.mean(suma_ex.values), yerr=np.std(suma_ent.values), ecolor='g')\n",
    "    plt.xticks(range(len(lst)), lst_str)\n",
    "    plt.xlabel('Dates')\n",
    "    plt.ylabel('Counts')\n",
    "    plt.legend(['Total exits'])\n",
    "    plt.grid()\n",
    "    plt.title('Exits')\n",
    "\n",
    "plot_3()"
   ]
  },
  {
   "cell_type": "markdown",
   "metadata": {},
   "source": [
    "### Plot 25/50/75 percentile of the daily total number of entries & exits for each month in Q1 2013 for station 34 ST-PENN STA."
   ]
  },
  {
   "cell_type": "code",
   "execution_count": 73,
   "metadata": {},
   "outputs": [
    {
     "data": {
      "image/png": "[encoded data removed]",
      "text/plain": [
       "<Figure size 600x400 with 1 Axes>"
      ]
     },
     "metadata": {
      "needs_background": "light"
     },
     "output_type": "display_data"
    },
    {
     "data": {
      "image/png": "[encoded data removed]",
      "text/plain": [
       "<Figure size 600x400 with 1 Axes>"
      ]
     },
     "metadata": {
      "needs_background": "light"
     },
     "output_type": "display_data"
    }
   ],
   "source": [
    "import matplotlib.patches as mpatches\n",
    "\n",
    "Q_1_3 = list(reversed(['turnstile_130330.csv', 'turnstile_130323.csv' , 'turnstile_130316.csv' \n",
    "                     ,'turnstile_130309.csv' , 'turnstile_130302.csv']))\n",
    "Q_1_2 = list(reversed(['turnstile_130223.csv' \n",
    "                     , 'turnstile_130216.csv' , 'turnstile_130209.csv' , 'turnstile_130202.csv']))\n",
    "Q_1_1 = list(reversed(['turnstile_130126.csv' , 'turnstile_130119.csv' , 'turnstile_130112.csv', 'turnstile_130105.csv',]))\n",
    "\n",
    "\n",
    "percents = [25, 50, 75]\n",
    "\n",
    "def plot_4():\n",
    "    lst = [Q_1_1, Q_1_2, Q_1_3]\n",
    "    lst_str = ['Jan', 'Feb', 'March']\n",
    "    plt.figure(1)\n",
    "    for j in range(len(lst)):\n",
    "        data = pd.concat([pd.read_csv(LOCATION + lst[j][i], parse_dates=['DATE%s' % k for k in range(1, 9)], infer_datetime_format=True) for i in range(len(Q_1_1))], ignore_index=True)\n",
    "        data = data.drop(columns='Unnamed: 0')\n",
    "        data = data[data['Station'] == '34 ST-PENN STA']\n",
    "        data = total_entries(data)\n",
    "        data = total_exits(data)\n",
    "    \n",
    "        suma_ent = data.groupby(['DATE1']).ENTRIES1.sum()  + data.groupby(['DATE1']).ENTRIES2.sum() + data.groupby(['DATE1']).ENTRIES3.sum() + data.groupby(['DATE1']).ENTRIES4.sum() + data.groupby(['DATE1']).ENTRIES5.sum() + data.groupby(['DATE1']).ENTRIES6.sum() + data.groupby(['DATE1']).ENTRIES7.sum() + data.groupby(['DATE1']).ENTRIES8.sum()\n",
    "    \n",
    "        suma_ent = filter_(suma_ent)\n",
    "        \n",
    "        plt.plot(j, np.percentile(suma_ent.values, 25), 'ro')\n",
    "        plt.plot(j, np.percentile(suma_ent.values, 50), 'go')\n",
    "        plt.plot(j, np.percentile(suma_ent.values, 75), 'bo')\n",
    "    plt.xticks(range(len(lst)), lst_str)\n",
    "    plt.xlabel('Dates')\n",
    "    plt.ylabel('Percentiles')\n",
    "    red_patch = mpatches.Patch(color='red', label='Total entries - 25')\n",
    "    green_patch = mpatches.Patch(color='green', label='Total entries - 50')\n",
    "    blue_patch = mpatches.Patch(color='blue', label='Total entries - 75')\n",
    "    plt.legend(handles=[red_patch, green_patch, blue_patch])\n",
    "    plt.title('Entries')\n",
    "    plt.grid()\n",
    "    \n",
    "    plt.figure(2)\n",
    "    for j in range(len(lst)):\n",
    "        data = pd.concat([pd.read_csv(LOCATION + lst[j][i], parse_dates=['DATE%s' % k for k in range(1, 9)], infer_datetime_format=True) for i in range(len(Q_1_1))], ignore_index=True)\n",
    "        data = data.drop(columns='Unnamed: 0')\n",
    "        data = data[data['Station'] == '34 ST-PENN STA']\n",
    "        data = total_entries(data)\n",
    "        data = total_exits(data)\n",
    "    \n",
    "        suma_ex = data.groupby(['DATE1']).EXITS1.sum()  + data.groupby(['DATE1']).EXITS2.sum() + data.groupby(['DATE1']).EXITS3.sum() + data.groupby(['DATE1']).EXITS4.sum() + data.groupby(['DATE1']).EXITS5.sum() + data.groupby(['DATE1']).EXITS6.sum() + data.groupby(['DATE1']).EXITS7.sum() + data.groupby(['DATE1']).EXITS8.sum()\n",
    "    \n",
    "        suma_ex = filter_(suma_ex)\n",
    "\n",
    "        plt.plot(j, np.percentile(suma_ex.values, 25), 'ro')\n",
    "        plt.plot(j, np.percentile(suma_ex.values, 50), 'go')\n",
    "        plt.plot(j, np.percentile(suma_ex.values, 75), 'bo')\n",
    "    plt.xticks(range(len(lst)), lst_str)\n",
    "    plt.xlabel('Dates')\n",
    "    plt.ylabel('Percentiles')\n",
    "    red_patch = mpatches.Patch(color='red', label='Total entries - 25')\n",
    "    green_patch = mpatches.Patch(color='green', label='Total entries - 50')\n",
    "    blue_patch = mpatches.Patch(color='blue', label='Total entries - 75')\n",
    "    plt.legend(handles=[red_patch, green_patch, blue_patch])\n",
    "    plt.title('Exits')\n",
    "    plt.grid()\n",
    "    \n",
    "plot_4()"
   ]
  },
  {
   "cell_type": "code",
   "execution_count": null,
   "metadata": {},
   "outputs": [],
   "source": []
  }
 ],
 "metadata": {
  "kernelspec": {
   "display_name": "Python 3",
   "language": "python",
   "name": "python3"
  },
  "language_info": {
   "codemirror_mode": {
    "name": "ipython",
    "version": 3
   },
   "file_extension": ".py",
   "mimetype": "text/x-python",
   "name": "python",
   "nbconvert_exporter": "python",
   "pygments_lexer": "ipython3",
   "version": "3.7.4"
  }
 },
 "nbformat": 4,
 "nbformat_minor": 2
}
